{
  "nbformat": 4,
  "nbformat_minor": 0,
  "metadata": {
    "colab": {
      "provenance": [],
      "gpuType": "V100",
      "machine_shape": "hm",
      "gpuClass": "premium"
    },
    "kernelspec": {
      "name": "python3",
      "display_name": "Python 3"
    },
    "language_info": {
      "name": "python"
    },
    "gpuClass": "premium",
    "accelerator": "GPU"
  },
  "cells": [
    {
      "cell_type": "code",
      "source": [
        "gpu_info = !nvidia-smi\n",
        "gpu_info = '\\n'.join(gpu_info)\n",
        "if gpu_info.find('failed') >= 0:\n",
        "  print('Not connected to a GPU')\n",
        "else:\n",
        "  print(gpu_info)"
      ],
      "metadata": {
        "id": "lvdTPQfzmnAm"
      },
      "execution_count": null,
      "outputs": []
    },
    {
      "cell_type": "code",
      "source": [
        "from psutil import virtual_memory\n",
        "ram_gb = virtual_memory().total / 1e9\n",
        "print('Your runtime has {:.1f} gigabytes of available RAM\\n'.format(ram_gb))\n",
        "\n",
        "if ram_gb < 20:\n",
        "  print('Not using a high-RAM runtime')\n",
        "else:\n",
        "  print('You are using a high-RAM runtime!')"
      ],
      "metadata": {
        "id": "7DwlxLjxm5fG"
      },
      "execution_count": null,
      "outputs": []
    },
    {
      "cell_type": "code",
      "source": [
        "from google.colab import drive\n",
        "drive.mount('/content/drive')\n",
        "\n",
        "# change to your personal project address\n",
        "\n",
        "%cd /content/drive/MyDrive/Colab Notebooks/Vehicle Rating Prediction"
      ],
      "metadata": {
        "id": "58gTaBEeWt1t"
      },
      "execution_count": null,
      "outputs": []
    },
    {
      "cell_type": "code",
      "source": [
        "# -*-coding:utf8 -*-\n",
        "from matplotlib.pyplot import figure\n",
        "import matplotlib.pyplot as plt\n",
        "import pandas as pd\n",
        "import numpy as np\n",
        "\n",
        "import tensorflow as tf\n",
        "from sklearn.linear_model import LinearRegression"
      ],
      "metadata": {
        "id": "7tuLKsrieuCi"
      },
      "execution_count": null,
      "outputs": []
    },
    {
      "cell_type": "markdown",
      "source": [
        "## **Get Linear Regression Weights**"
      ],
      "metadata": {
        "id": "ljlD5rdKeFEB"
      }
    },
    {
      "cell_type": "markdown",
      "source": [
        "**The provided example code demonstrates the process of obtaining linear regression weights from parametric data, exterior image data, and text data. If you wish to acquire weights for different combinations, simply modify the following code accordingly to get the relative linear regression weights.**"
      ],
      "metadata": {
        "id": "IgaC4cGbLIpq"
      }
    },
    {
      "cell_type": "code",
      "source": [
        "# read info_data\n",
        "file_name = 'predictions_' + var + '.csv'\n",
        "info_data = pd.read_csv(file_name)\n",
        "print(info_data.shape)\n",
        "# print(data)\n",
        "\n",
        "# get numpy matrix which only contains data (do not contain the title)\n",
        "info_data = np.array(info_data)\n",
        "print(info_data.shape)\n",
        "print(len(info_data))\n",
        "print(info_data.shape[1])\n",
        "\n",
        "x_train = np.zeros((2055, 3))\n",
        "y_train = np.zeros((2055, 1))\n",
        "\n",
        "x_test = np.zeros((258, 3))\n",
        "y_test = np.zeros((258, 1))\n",
        "\n",
        "\n",
        "for i in range(2055):\n",
        "    x_train[i, 0] = info_data[i, 0]\n",
        "    x_train[i, 1] = info_data[i, 1]\n",
        "    x_train[i, 2] = info_data[i, 2]\n",
        "    y_train[i] = info_data[i, 3]\n",
        "\n",
        "for i in range(258):\n",
        "    x_test[i, 0] = info_data[i+2055, 0]\n",
        "    x_test[i, 1] = info_data[i+2055, 1]\n",
        "    x_test[i, 2] = info_data[i+2313, 2]\n",
        "    y_test[i] = info_data[i+2055, 3]\n",
        "\n",
        "\n",
        "model = LinearRegression().fit(x_train, y_train)"
      ],
      "metadata": {
        "id": "2HhB9JTNeHvY"
      },
      "execution_count": null,
      "outputs": []
    },
    {
      "cell_type": "markdown",
      "source": [
        "**Get Linear Regression R-squared and Weights(Slope)**"
      ],
      "metadata": {
        "id": "G5gVpQT6fFm4"
      }
    },
    {
      "cell_type": "code",
      "source": [
        "r_sq = model.score(x_test, y_test)\n",
        "print('coefficient of determination:', r_sq)\n",
        "# coefficient of determination:\n",
        "print('intercept:', model.intercept_)\n",
        "# intercept:\n",
        "print('slope:', model.coef_)\n",
        "# slope: MLP + Bert + CNN\n",
        "\n",
        "y_pred = model.predict(x_test)\n",
        "\n",
        "test = np.array(y_test).T\n",
        "predict = np.array(y_pred).T\n",
        "\n",
        "correlation_matrix = np.corrcoef(test, predict)\n",
        "print(correlation_matrix)\n",
        "correlation_xy = correlation_matrix[0, 1]\n",
        "r_squared = correlation_xy ** 2\n",
        "# range:\n",
        "\n",
        "print(r_squared)"
      ],
      "metadata": {
        "id": "pdw8tliWe3cP"
      },
      "execution_count": null,
      "outputs": []
    }
  ]
}