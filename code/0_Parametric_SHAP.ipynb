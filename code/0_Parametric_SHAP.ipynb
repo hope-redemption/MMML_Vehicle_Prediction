{
  "nbformat": 4,
  "nbformat_minor": 0,
  "metadata": {
    "colab": {
      "provenance": [],
      "collapsed_sections": [
        "DGJ--bwbQi8C"
      ],
      "gpuType": "V100"
    },
    "kernelspec": {
      "name": "python3",
      "display_name": "Python 3"
    },
    "language_info": {
      "name": "python"
    },
    "accelerator": "GPU"
  },
  "cells": [
    {
      "cell_type": "markdown",
      "source": [
        "## **Setting Things Up**\n",
        "\n",
        "**1 If you haven't already, please hit :**\n",
        "\n",
        "`File > Save a Copy in Drive`\n",
        "\n",
        "**to copy this notebook to your Google drive, and work on a copy. If you don't do this, your changes won't be saved!**\n",
        "\n",
        "\n",
        "**2 In order to use a GPU with your notebook, select :**\n",
        "\n",
        "`Runtime > Change runtime type`\n",
        "\n",
        "**menu, and then set the hardware accelerator dropdown to GPU. This can significantly speed up the training process.**\n",
        "\n",
        "**3 In order to have enough memory with your notebook, select :**\n",
        "\n",
        "`Runtime > Change runtime type`\n",
        "\n",
        "**menu, and then select High-RAM in the Runtime shape dropdown.**\n",
        "\n",
        "To facilitate your initial progress, we have included a ready-to-use code on Google Colab for this problem. It allows you to get started immediately without the need to install any software libraries. Additionally, if you prefer not to use Google Colab and prefer setting up your own programming environment or employing alternative methods, the provided files and code will still be valuable."
      ],
      "metadata": {
        "id": "L8Ltt0Fcfr3j"
      }
    },
    {
      "cell_type": "code",
      "source": [
        "gpu_info = !nvidia-smi\n",
        "gpu_info = '\\n'.join(gpu_info)\n",
        "if gpu_info.find('failed') >= 0:\n",
        "  print('Not connected to a GPU')\n",
        "else:\n",
        "  print(gpu_info)"
      ],
      "metadata": {
        "colab": {
          "base_uri": "https://localhost:8080/"
        },
        "id": "lvdTPQfzmnAm",
        "outputId": "5e024b7e-6c05-4211-9313-79eee5bae2bf"
      },
      "execution_count": 1,
      "outputs": [
        {
          "output_type": "stream",
          "name": "stdout",
          "text": [
            "Sun Jun 25 12:54:16 2023       \n",
            "+-----------------------------------------------------------------------------+\n",
            "| NVIDIA-SMI 525.85.12    Driver Version: 525.85.12    CUDA Version: 12.0     |\n",
            "|-------------------------------+----------------------+----------------------+\n",
            "| GPU  Name        Persistence-M| Bus-Id        Disp.A | Volatile Uncorr. ECC |\n",
            "| Fan  Temp  Perf  Pwr:Usage/Cap|         Memory-Usage | GPU-Util  Compute M. |\n",
            "|                               |                      |               MIG M. |\n",
            "|===============================+======================+======================|\n",
            "|   0  Tesla V100-SXM2...  Off  | 00000000:00:04.0 Off |                    0 |\n",
            "| N/A   35C    P0    23W / 300W |      0MiB / 16384MiB |      0%      Default |\n",
            "|                               |                      |                  N/A |\n",
            "+-------------------------------+----------------------+----------------------+\n",
            "                                                                               \n",
            "+-----------------------------------------------------------------------------+\n",
            "| Processes:                                                                  |\n",
            "|  GPU   GI   CI        PID   Type   Process name                  GPU Memory |\n",
            "|        ID   ID                                                   Usage      |\n",
            "|=============================================================================|\n",
            "|  No running processes found                                                 |\n",
            "+-----------------------------------------------------------------------------+\n"
          ]
        }
      ]
    },
    {
      "cell_type": "code",
      "source": [
        "from psutil import virtual_memory\n",
        "ram_gb = virtual_memory().total / 1e9\n",
        "print('Your runtime has {:.1f} gigabytes of available RAM\\n'.format(ram_gb))\n",
        "\n",
        "if ram_gb < 20:\n",
        "  print('Not using a high-RAM runtime')\n",
        "else:\n",
        "  print('You are using a high-RAM runtime!')"
      ],
      "metadata": {
        "colab": {
          "base_uri": "https://localhost:8080/"
        },
        "id": "7DwlxLjxm5fG",
        "outputId": "9ec3d5ad-b100-43d6-8ace-46ab4a998359"
      },
      "execution_count": 2,
      "outputs": [
        {
          "output_type": "stream",
          "name": "stdout",
          "text": [
            "Your runtime has 13.6 gigabytes of available RAM\n",
            "\n",
            "Not using a high-RAM runtime\n"
          ]
        }
      ]
    },
    {
      "cell_type": "code",
      "source": [
        "!pip install shap"
      ],
      "metadata": {
        "id": "wBFq4whAIe5r",
        "colab": {
          "base_uri": "https://localhost:8080/"
        },
        "outputId": "4078785f-82b5-4eee-a07d-a64f13feb1fa"
      },
      "execution_count": 4,
      "outputs": [
        {
          "output_type": "stream",
          "name": "stdout",
          "text": [
            "Looking in indexes: https://pypi.org/simple, https://us-python.pkg.dev/colab-wheels/public/simple/\n",
            "Requirement already satisfied: shap in /usr/local/lib/python3.10/dist-packages (0.41.0)\n",
            "Requirement already satisfied: numpy in /usr/local/lib/python3.10/dist-packages (from shap) (1.22.4)\n",
            "Requirement already satisfied: scipy in /usr/local/lib/python3.10/dist-packages (from shap) (1.10.1)\n",
            "Requirement already satisfied: scikit-learn in /usr/local/lib/python3.10/dist-packages (from shap) (1.2.2)\n",
            "Requirement already satisfied: pandas in /usr/local/lib/python3.10/dist-packages (from shap) (1.5.3)\n",
            "Requirement already satisfied: tqdm>4.25.0 in /usr/local/lib/python3.10/dist-packages (from shap) (4.65.0)\n",
            "Requirement already satisfied: packaging>20.9 in /usr/local/lib/python3.10/dist-packages (from shap) (23.1)\n",
            "Requirement already satisfied: slicer==0.0.7 in /usr/local/lib/python3.10/dist-packages (from shap) (0.0.7)\n",
            "Requirement already satisfied: numba in /usr/local/lib/python3.10/dist-packages (from shap) (0.56.4)\n",
            "Requirement already satisfied: cloudpickle in /usr/local/lib/python3.10/dist-packages (from shap) (2.2.1)\n",
            "Requirement already satisfied: llvmlite<0.40,>=0.39.0dev0 in /usr/local/lib/python3.10/dist-packages (from numba->shap) (0.39.1)\n",
            "Requirement already satisfied: setuptools in /usr/local/lib/python3.10/dist-packages (from numba->shap) (67.7.2)\n",
            "Requirement already satisfied: python-dateutil>=2.8.1 in /usr/local/lib/python3.10/dist-packages (from pandas->shap) (2.8.2)\n",
            "Requirement already satisfied: pytz>=2020.1 in /usr/local/lib/python3.10/dist-packages (from pandas->shap) (2022.7.1)\n",
            "Requirement already satisfied: joblib>=1.1.1 in /usr/local/lib/python3.10/dist-packages (from scikit-learn->shap) (1.2.0)\n",
            "Requirement already satisfied: threadpoolctl>=2.0.0 in /usr/local/lib/python3.10/dist-packages (from scikit-learn->shap) (3.1.0)\n",
            "Requirement already satisfied: six>=1.5 in /usr/local/lib/python3.10/dist-packages (from python-dateutil>=2.8.1->pandas->shap) (1.16.0)\n"
          ]
        }
      ]
    },
    {
      "cell_type": "code",
      "source": [
        "# -*-coding:utf8 -*-\n",
        "import tensorflow as tf\n",
        "# print(\"TensorFlow version:\", tf.__version__)\n",
        "\n",
        "import os\n",
        "\n",
        "import pandas as pd\n",
        "import numpy as np\n",
        "\n",
        "from matplotlib.pyplot import figure\n",
        "import matplotlib.pyplot as plt\n",
        "from PIL import Image\n",
        "\n",
        "import shap\n",
        "\n",
        "from tensorflow.python import keras\n",
        "from keras.layers import Dense, Flatten, Conv2D\n",
        "from keras.optimizers import RMSprop, Adam, SGD\n",
        "from keras.callbacks import LearningRateScheduler\n",
        "from keras.applications.vgg16 import VGG16\n",
        "from keras import Model, Input, layers\n",
        "\n",
        "from keras import Model, Input, layers, regularizers\n",
        "from keras.models import load_model\n",
        "from keras import activations\n",
        "\n",
        "import csv"
      ],
      "metadata": {
        "id": "r9f3jnrspEse"
      },
      "execution_count": 5,
      "outputs": []
    },
    {
      "cell_type": "code",
      "source": [
        "from google.colab import drive\n",
        "drive.mount('/content/drive')\n",
        "\n",
        "# change to your personal project address\n",
        "\n",
        "%cd /content/drive/MyDrive/Colab Notebooks//Vehicle Rating Prediction"
      ],
      "metadata": {
        "colab": {
          "base_uri": "https://localhost:8080/"
        },
        "id": "UjHBjkEcphmW",
        "outputId": "db76157f-2629-473c-ea35-dfde9bb40100"
      },
      "execution_count": 6,
      "outputs": [
        {
          "output_type": "stream",
          "name": "stdout",
          "text": [
            "Mounted at /content/drive\n",
            "/content/drive/MyDrive/Colab Notebooks/Vehicle Rating Prediction\n"
          ]
        }
      ]
    },
    {
      "cell_type": "markdown",
      "source": [
        "## **1 Data Processing**"
      ],
      "metadata": {
        "id": "jNHAWcSgzfAl"
      }
    },
    {
      "cell_type": "code",
      "source": [
        "var = \"total score\"\n",
        "# var = \"safety score\"\n",
        "# var = \"performance score\"\n",
        "# var = \"interior score\"\n",
        "# var = \"critics score\""
      ],
      "metadata": {
        "id": "5uRlLQjPs3Jv"
      },
      "execution_count": 7,
      "outputs": []
    },
    {
      "cell_type": "code",
      "source": [
        "# read info_data\n",
        "file_name = \"parametric data 2571 normalize \" + var + \".csv\"\n",
        "info_data = pd.read_csv(file_name)\n",
        "# get numpy matrix which only contains data (do not contain the title)\n",
        "info_data = np.array(info_data)\n",
        "print(info_data.shape)  # (2571, 310)\n",
        "print(len(info_data))\n",
        "print(info_data.shape[1])"
      ],
      "metadata": {
        "colab": {
          "base_uri": "https://localhost:8080/"
        },
        "id": "WJ0qgs4FzrU0",
        "outputId": "2d389df8-dfed-4b19-8000-dc6791179ad4"
      },
      "execution_count": 8,
      "outputs": [
        {
          "output_type": "stream",
          "name": "stdout",
          "text": [
            "(2571, 310)\n",
            "2571\n",
            "310\n"
          ]
        }
      ]
    },
    {
      "cell_type": "code",
      "source": [
        "# Input Parametric Data (2571x303)\n",
        "# column 0: origin index\n",
        "# column 1: model name\n",
        "# column 2-303: parametric feature\n",
        "# column 304: total score\n",
        "# column 305: critics score\n",
        "# column 306: performance score\n",
        "# column 307: interior score\n",
        "# column 308: safety score\n",
        "# column 309: data split index => 1: train data; 2: validation data; 3:test data"
      ],
      "metadata": {
        "id": "yysv2nS5z5Os"
      },
      "execution_count": null,
      "outputs": []
    },
    {
      "cell_type": "markdown",
      "source": [
        "**To get the interpretability results of the model, we only need the input feature(\"X\"). Firstly, we need to obtain the name of each feature.**"
      ],
      "metadata": {
        "id": "jcJXdb-O1yl8"
      }
    },
    {
      "cell_type": "code",
      "source": [
        "with open(file_name,'r') as fr:\n",
        "    reader = csv.DictReader(fr)\n",
        "    headers = reader.fieldnames\n",
        "    print(f\"headers={headers}\")\n",
        "    del headers[0:2]\n",
        "    del headers[302:308]\n",
        "print(len(headers))\n",
        "print(headers)"
      ],
      "metadata": {
        "colab": {
          "base_uri": "https://localhost:8080/"
        },
        "id": "upAkOYtazBot",
        "outputId": "969155d7-960e-465c-a0c9-f27b592b2b96"
      },
      "execution_count": 9,
      "outputs": [
        {
          "output_type": "stream",
          "name": "stdout",
          "text": [
            "headers=['index', 'model', '2007', '2008', '2009', '2010', '2011', '2012', '2013', '2014', '2015', '2016', '2017', '2018', '2019', '2020', '2021', '2022', '2023', 'Mazda', 'Acura', 'Alfa', 'Audi', 'BMW', 'Buick', 'Cadillac', 'Chevrolet', 'Chrysler', 'Dodge', 'FIAT', 'Ford', 'GMC', 'Genesis', 'Honda', 'Hyundai', 'Infiniti', 'Jaguar', 'Jeep', 'Kia', 'Land', 'Lexus', 'Lincoln', 'Lucid', 'MINI', 'Maserati', 'Mercedes-Benz', 'Mitsubishi', 'Nissan', 'Porsche', 'Ram', 'Rivian', 'Subaru', 'Tesla', 'Toyota', 'Volkswagen', 'Volvo', 'Polestar', 'Smart', 'Scion', 'Suzuki', 'Fiat', 'Mini', 'Aston', 'Ferrari', 'Lamborghini', 'Lotus', 'Mercedes', 'Saab', 'Hummer', 'Mercury', 'Pontiac', 'HUMMER', 'Saturn', 'Isuzu', 'AWD', 'FWD', 'RWD', '4WD', '2WD', 'SUV', 'Sedan', 'SH-AWD', 'Coupe', 'quattro', 'Wagon', 'Sportback', 'Cabriolet', 'Spyder', 'Hatchback', 'Convertible', 'Sports Activity', 'Roadster', 'Cab', 'Passenger Van', 'Styleside', 'Pickup', 'Fastback', 'LWB', 'PHEV', 'ALL4', '4MOTION', 'Liftback', 'Cargo Van', 'SRW', 'DRW', 'Cargo Van', 'Hybrid', '4MATIC', 'Wheelbase (in)', 'Dim Length (in)', 'Dim Width (in)', 'Dim Height (in)', 'Base Curb Weight (lbs)', 'Alarm', 'Back-Up Camera', 'Cruise Control', 'Adaptive Cruise Control', 'Vehicle Anti-Theft System', 'Auto-Off Headlights', 'Interior Cargo Shade', 'Keyless Start', 'Luggage Rack', 'Remote Engine Start', 'Adjustable Steering Wheel', 'Steering Wheel Controls', 'Trip Computer', 'Universal Garage Door Opener', 'Intermittent Wipers', 'Rain Sensing Wipers', 'Variable Speed Intermittent Wipers', 'Keyless Entry', 'Power Door Locks', 'Electrochromic rearview mirror', 'Power Mirrors', 'Driver Vanity Mirror', 'Passenger Vanity Mirror', 'Power Steering', 'Fog Lamps', 'Rear Parking Aid', 'Leather Wrapped Steering Wheel', 'Remote Trunk Release', 'Heated Mirrors', 'Driver Illuminated Vanity Mirror', 'Passenger Illuminated Visor Mirror', 'Power Liftgate', 'Hands-Free Liftgate', 'Heated Steering Wheel', 'Mirror Memory', 'Power Folding Mirrors', 'Heads-Up Display', 'HID headlights', 'Automatic Parking', 'Seat-Massage', 'All Wheel Steering', 'Auxiliary Pwr Outlet', 'Front Reading Lamps', 'Rear Reading Lamps', 'Navigation from Telematics', 'Leather Wrapped', 'Manual Steering', 'Rear Floor Mats', 'Heated Exterior Driver Mirror', 'Heated Exterior Passenger Mirror', 'Power Passenger Mirror', 'Rear Seat Heat Ducts', 'Passenger Capacity', 'Front Head Room (in.)', 'Front Leg Room (in.)', 'Front Shoulder Room (in.)', 'Second Head Room (in.)', 'Second Leg Room (in.)', 'Second Shoulder Room (in.)', 'AM/FM Stereo', 'Auxiliary Audio Input', 'MP3 Player', 'WiFi Hotspot', 'Smart Device Integration', 'Apple CarPlay', 'Android Auto', 'CD Player', 'Satellite Radio', 'HD Radio', 'Premium Sound System', 'Rear Seat Audio Controls', 'Hard Disk Drive', 'Entertainment System', 'CD Changer', 'Equalizer', 'Cassette', 'A/C', 'Climate Control', 'Dual Zone A/C', 'Rear A/C', 'Navigation System', 'Onboard Hands-Free Communications System', 'WirelessCell Phone Hookup', 'Cell Phone Hookup', 'Cloth Seats', 'Pass-Through Rear Seat', '2nd Row Bench Seat', 'Bucket Seats', 'Driver Lumbar', 'Power Driver Seat', 'Passenger Lumbar', 'Seat Memory', 'Power Passenger Seat', 'Heated Rear Seat', 'Leather Seats', 'Cooled Driver Seat', 'Heated Front Seats', 'Premium Synthetic Seats', 'Quad Bucket Seats', 'Cooled Rear Seat', 'Split Bench Seat', 'Vinyl Seats', 'Additional Rear Seat', 'Fixed Bench Seat', 'Heated Passenger Seat', 'Cooled Passenger Seat', 'Automatic', 'Automatic Transmission w/Manual Mode', 'Transmission Overdrive Switch', 'Manual', 'Continuously Variable Trans', '8-Speed Automatic', '7-Speed Manual', '7-Speed Automatic', '6-Speed Manual', '6-Speed Automatic', '5-Speed Manual', '5-Speed Automatic', '4-Speed Automatic', '1-Speed Automatic', 'Gasoline Fuel', 'Hybrid Fuel', 'Plug-In Electric/Gas', 'Electric Fuel System', 'Diesel Fuel', 'Flexible Fuel Capability', 'Gasoline/Natural Gas Bi-Fuel', 'Natural Gas Fuel', 'Fuel Tank Capacity(gal)', 'Horsepower (Net @ RPM)', 'Torque (Net @ RPM)', 'Turning diameter', 'Regular Unleaded', 'Premium Unleaded', 'Gas/Electric', 'Electric', 'Gas', 'Gas/Plug-in Electric', 'Gas/Ethanol', 'Gas/CNG', 'Diesel', 'Hybrid', 'Intercooled', 'Turbocharged', 'Twin', 'Turbo', 'Supercharger', 'FFV', 'Flex-Fuel', 'High-Pressure', 'Low-Pressure', 'I', 'V', 'H', 'W', 'L', 'Flat', 'num of cylinder', 'displacement', 'Driver Air Bag', 'Passenger Air Bag', 'Front Head Air Bag', 'Rear Head Air Bag', 'Front Side Air Bag', 'Rear Side Air Bag', 'Passenger Air Bag On/Off Switch', '4-Wheel ABS', '4-Wheel Disc Brakes', 'Front Disc/Rear Drum Brakes', 'ABS', 'Brake Assist', 'Electronic Stability Control', 'Daytime Running Lights', 'Child Safety Locks', 'Integrated Turn Signal Mirrors', 'Traction Control', 'Lane Departure Warning', 'Lane Keeping Assist', 'Blind Spot Monitor', 'Cross-Traffic Alert', 'Auto-Leveling Headlights', 'Night Vision', 'Rollover Protection System', 'Front Tow Hooks', 'Emergency TrunkRelease', 'Adjustable Pedals', 'Auto-On Headlights', 'Rear Tow Hooks', 'MSRP', 'mpg_city', 'mpg_hwy', 'total score', 'critics score', 'performance score', 'interior score', 'safety score', 'data split total score']\n",
            "302\n",
            "['2007', '2008', '2009', '2010', '2011', '2012', '2013', '2014', '2015', '2016', '2017', '2018', '2019', '2020', '2021', '2022', '2023', 'Mazda', 'Acura', 'Alfa', 'Audi', 'BMW', 'Buick', 'Cadillac', 'Chevrolet', 'Chrysler', 'Dodge', 'FIAT', 'Ford', 'GMC', 'Genesis', 'Honda', 'Hyundai', 'Infiniti', 'Jaguar', 'Jeep', 'Kia', 'Land', 'Lexus', 'Lincoln', 'Lucid', 'MINI', 'Maserati', 'Mercedes-Benz', 'Mitsubishi', 'Nissan', 'Porsche', 'Ram', 'Rivian', 'Subaru', 'Tesla', 'Toyota', 'Volkswagen', 'Volvo', 'Polestar', 'Smart', 'Scion', 'Suzuki', 'Fiat', 'Mini', 'Aston', 'Ferrari', 'Lamborghini', 'Lotus', 'Mercedes', 'Saab', 'Hummer', 'Mercury', 'Pontiac', 'HUMMER', 'Saturn', 'Isuzu', 'AWD', 'FWD', 'RWD', '4WD', '2WD', 'SUV', 'Sedan', 'SH-AWD', 'Coupe', 'quattro', 'Wagon', 'Sportback', 'Cabriolet', 'Spyder', 'Hatchback', 'Convertible', 'Sports Activity', 'Roadster', 'Cab', 'Passenger Van', 'Styleside', 'Pickup', 'Fastback', 'LWB', 'PHEV', 'ALL4', '4MOTION', 'Liftback', 'Cargo Van', 'SRW', 'DRW', 'Cargo Van', 'Hybrid', '4MATIC', 'Wheelbase (in)', 'Dim Length (in)', 'Dim Width (in)', 'Dim Height (in)', 'Base Curb Weight (lbs)', 'Alarm', 'Back-Up Camera', 'Cruise Control', 'Adaptive Cruise Control', 'Vehicle Anti-Theft System', 'Auto-Off Headlights', 'Interior Cargo Shade', 'Keyless Start', 'Luggage Rack', 'Remote Engine Start', 'Adjustable Steering Wheel', 'Steering Wheel Controls', 'Trip Computer', 'Universal Garage Door Opener', 'Intermittent Wipers', 'Rain Sensing Wipers', 'Variable Speed Intermittent Wipers', 'Keyless Entry', 'Power Door Locks', 'Electrochromic rearview mirror', 'Power Mirrors', 'Driver Vanity Mirror', 'Passenger Vanity Mirror', 'Power Steering', 'Fog Lamps', 'Rear Parking Aid', 'Leather Wrapped Steering Wheel', 'Remote Trunk Release', 'Heated Mirrors', 'Driver Illuminated Vanity Mirror', 'Passenger Illuminated Visor Mirror', 'Power Liftgate', 'Hands-Free Liftgate', 'Heated Steering Wheel', 'Mirror Memory', 'Power Folding Mirrors', 'Heads-Up Display', 'HID headlights', 'Automatic Parking', 'Seat-Massage', 'All Wheel Steering', 'Auxiliary Pwr Outlet', 'Front Reading Lamps', 'Rear Reading Lamps', 'Navigation from Telematics', 'Leather Wrapped', 'Manual Steering', 'Rear Floor Mats', 'Heated Exterior Driver Mirror', 'Heated Exterior Passenger Mirror', 'Power Passenger Mirror', 'Rear Seat Heat Ducts', 'Passenger Capacity', 'Front Head Room (in.)', 'Front Leg Room (in.)', 'Front Shoulder Room (in.)', 'Second Head Room (in.)', 'Second Leg Room (in.)', 'Second Shoulder Room (in.)', 'AM/FM Stereo', 'Auxiliary Audio Input', 'MP3 Player', 'WiFi Hotspot', 'Smart Device Integration', 'Apple CarPlay', 'Android Auto', 'CD Player', 'Satellite Radio', 'HD Radio', 'Premium Sound System', 'Rear Seat Audio Controls', 'Hard Disk Drive', 'Entertainment System', 'CD Changer', 'Equalizer', 'Cassette', 'A/C', 'Climate Control', 'Dual Zone A/C', 'Rear A/C', 'Navigation System', 'Onboard Hands-Free Communications System', 'WirelessCell Phone Hookup', 'Cell Phone Hookup', 'Cloth Seats', 'Pass-Through Rear Seat', '2nd Row Bench Seat', 'Bucket Seats', 'Driver Lumbar', 'Power Driver Seat', 'Passenger Lumbar', 'Seat Memory', 'Power Passenger Seat', 'Heated Rear Seat', 'Leather Seats', 'Cooled Driver Seat', 'Heated Front Seats', 'Premium Synthetic Seats', 'Quad Bucket Seats', 'Cooled Rear Seat', 'Split Bench Seat', 'Vinyl Seats', 'Additional Rear Seat', 'Fixed Bench Seat', 'Heated Passenger Seat', 'Cooled Passenger Seat', 'Automatic', 'Automatic Transmission w/Manual Mode', 'Transmission Overdrive Switch', 'Manual', 'Continuously Variable Trans', '8-Speed Automatic', '7-Speed Manual', '7-Speed Automatic', '6-Speed Manual', '6-Speed Automatic', '5-Speed Manual', '5-Speed Automatic', '4-Speed Automatic', '1-Speed Automatic', 'Gasoline Fuel', 'Hybrid Fuel', 'Plug-In Electric/Gas', 'Electric Fuel System', 'Diesel Fuel', 'Flexible Fuel Capability', 'Gasoline/Natural Gas Bi-Fuel', 'Natural Gas Fuel', 'Fuel Tank Capacity(gal)', 'Horsepower (Net @ RPM)', 'Torque (Net @ RPM)', 'Turning diameter', 'Regular Unleaded', 'Premium Unleaded', 'Gas/Electric', 'Electric', 'Gas', 'Gas/Plug-in Electric', 'Gas/Ethanol', 'Gas/CNG', 'Diesel', 'Hybrid', 'Intercooled', 'Turbocharged', 'Twin', 'Turbo', 'Supercharger', 'FFV', 'Flex-Fuel', 'High-Pressure', 'Low-Pressure', 'I', 'V', 'H', 'W', 'L', 'Flat', 'num of cylinder', 'displacement', 'Driver Air Bag', 'Passenger Air Bag', 'Front Head Air Bag', 'Rear Head Air Bag', 'Front Side Air Bag', 'Rear Side Air Bag', 'Passenger Air Bag On/Off Switch', '4-Wheel ABS', '4-Wheel Disc Brakes', 'Front Disc/Rear Drum Brakes', 'ABS', 'Brake Assist', 'Electronic Stability Control', 'Daytime Running Lights', 'Child Safety Locks', 'Integrated Turn Signal Mirrors', 'Traction Control', 'Lane Departure Warning', 'Lane Keeping Assist', 'Blind Spot Monitor', 'Cross-Traffic Alert', 'Auto-Leveling Headlights', 'Night Vision', 'Rollover Protection System', 'Front Tow Hooks', 'Emergency TrunkRelease', 'Adjustable Pedals', 'Auto-On Headlights', 'Rear Tow Hooks', 'MSRP', 'mpg_city', 'mpg_hwy']\n"
          ]
        }
      ]
    },
    {
      "cell_type": "code",
      "source": [
        "# train data shuffle index\n",
        "num1 = 2055\n",
        "idx1 = tf.range(num1)\n",
        "idx1 = tf.random.shuffle(idx1)\n",
        "# print(idx1)\n",
        "# print(idx1[0])\n",
        "with tf.compat.v1.Session():\n",
        "    index1 = idx1.numpy()\n",
        "# print(index1.shape)\n",
        "# print(index1[0])\n",
        "\n",
        "# validation data shuffle index\n",
        "num2 = 258\n",
        "idx2 = tf.range(num2)\n",
        "idx2 = tf.random.shuffle(idx2)\n",
        "# print(idx2)\n",
        "# print(idx2[0])\n",
        "with tf.compat.v1.Session():\n",
        "    index2 = idx2.numpy()\n",
        "# print(index2.shape)\n",
        "# print(index2[0])\n",
        "\n",
        "# test data shuffle index\n",
        "num3 = 258\n",
        "idx3 = tf.range(num3)\n",
        "idx3 = tf.random.shuffle(idx3)\n",
        "# print(idx3)\n",
        "# print(idx3[0])\n",
        "with tf.compat.v1.Session():\n",
        "    index3 = idx3.numpy()\n",
        "# print(index3.shape)\n",
        "# print(index3[0])"
      ],
      "metadata": {
        "id": "vomcoWMgSHqK"
      },
      "execution_count": 10,
      "outputs": []
    },
    {
      "cell_type": "code",
      "source": [
        "# Please assign the parametric data, considering that we only require the input feature to obtain the model's interpretability results.\n",
        "x_train_tab = np.zeros((num1, 302))\n",
        "for i in range(num1):\n",
        "    x_train_tab[i, :] = np.array(info_data[index1[i], 2:304], dtype=float)\n",
        "x_train_tab = tf.convert_to_tensor(x_train_tab)\n",
        "# print(x_train_tab)\n",
        "\n",
        "\n",
        "x_validation_tab = np.zeros((num2, 302))\n",
        "for i in range(num2):\n",
        "    x_validation_tab[i, :] = np.array(info_data[index2[i] + num1, 2:304], dtype=float)\n",
        "x_validation_tab = tf.convert_to_tensor(x_validation_tab)\n",
        "# print(x_validation_tab)\n",
        "\n",
        "x_test_tab = np.zeros((num3, 302))\n",
        "for i in range(num3):\n",
        "    x_test_tab[i, :] = np.array(info_data[index3[i] + num1 + num2, 2:304], dtype=float)\n",
        "x_test_tab = tf.convert_to_tensor(x_test_tab)\n",
        "# print(x_test_tab)\n",
        "\n",
        "x_all = np.zeros((2571, 302))\n",
        "for i in range(2571):\n",
        "  x_all[i, :] = np.array(info_data[i, 2:304], dtype=float)"
      ],
      "metadata": {
        "id": "PI_ael2qSHjP"
      },
      "execution_count": 11,
      "outputs": []
    },
    {
      "cell_type": "code",
      "source": [
        "num4 = num2 + num3\n",
        "print(num4)\n",
        "x_sample_tab = np.zeros((num4, 302))\n",
        "for i in range(num4):\n",
        "    x_sample_tab[i, :] = np.array(info_data[i+num1, 2:304], dtype=float)\n",
        "x_sample_tab = tf.convert_to_tensor(x_sample_tab)\n",
        "# print(x_sample_tab)"
      ],
      "metadata": {
        "colab": {
          "base_uri": "https://localhost:8080/"
        },
        "id": "IgecF5d65tpX",
        "outputId": "c7b2144a-ce15-4327-c4bc-83f7e670a569"
      },
      "execution_count": 12,
      "outputs": [
        {
          "output_type": "stream",
          "name": "stdout",
          "text": [
            "516\n"
          ]
        }
      ]
    },
    {
      "cell_type": "markdown",
      "source": [
        "## **2 SHAP analysis**"
      ],
      "metadata": {
        "id": "G9ZJwMvSZpa8"
      }
    },
    {
      "cell_type": "markdown",
      "source": [
        "**First of all, we need to load the parametric model.**"
      ],
      "metadata": {
        "id": "lmlNGKV6TAMw"
      }
    },
    {
      "cell_type": "code",
      "source": [
        "# MLP\n",
        "MLPmodel = tf.keras.models.load_model('model weight/' + var + '_Par.h5')\n",
        "for layer in MLPmodel.layers:\n",
        "  layer._name = layer._name + \"_b\"\n",
        "MLPmodel.summary()"
      ],
      "metadata": {
        "colab": {
          "base_uri": "https://localhost:8080/"
        },
        "id": "qCPzQRugJVIZ",
        "outputId": "ddcd19e2-8dcd-4e77-b5c9-93f90b5e9c00"
      },
      "execution_count": 13,
      "outputs": [
        {
          "output_type": "stream",
          "name": "stdout",
          "text": [
            "Model: \"Parametric_Model\"\n",
            "_________________________________________________________________\n",
            " Layer (type)                Output Shape              Param #   \n",
            "=================================================================\n",
            " tab_dense1_b (Dense)        (None, 302)               91506     \n",
            "                                                                 \n",
            " tab_dropout1_b (Dropout)    (None, 302)               0         \n",
            "                                                                 \n",
            " tab_dense2_b (Dense)        (None, 100)               30300     \n",
            "                                                                 \n",
            " tab_dense3_b (Dense)        (None, 1)                 101       \n",
            "                                                                 \n",
            "=================================================================\n",
            "Total params: 121,907\n",
            "Trainable params: 121,907\n",
            "Non-trainable params: 0\n",
            "_________________________________________________________________\n"
          ]
        }
      ]
    },
    {
      "cell_type": "markdown",
      "source": [
        "**DeepExplainer, an implementation of Deep SHAP, was developed based on [SHAP](https://arxiv.org/abs/1705.07874) and [DeepLIFT](https://arxiv.org/abs/1704.02685).**"
      ],
      "metadata": {
        "id": "PDV-6yjiTQXJ"
      }
    },
    {
      "cell_type": "code",
      "source": [
        "explainer = shap.DeepExplainer(MLPmodel, np.array(x_train_tab))"
      ],
      "metadata": {
        "id": "TA_MoBopJXDA",
        "colab": {
          "base_uri": "https://localhost:8080/"
        },
        "outputId": "ed49eed6-dc4a-43c5-ea53-c86162f0b712"
      },
      "execution_count": 14,
      "outputs": [
        {
          "output_type": "stream",
          "name": "stderr",
          "text": [
            "keras is no longer supported, please use tf.keras instead.\n",
            "Your TensorFlow version is newer than 2.4.0 and so graph support has been removed in eager mode and some static graphs may not be supported. See PR #1483 for discussion.\n"
          ]
        }
      ]
    },
    {
      "cell_type": "markdown",
      "source": [
        "## **Obtain the average SHAP values for different vehicle brands**"
      ],
      "metadata": {
        "id": "fTqJ07svnOmf"
      }
    },
    {
      "cell_type": "code",
      "source": [
        "average_value = np.zeros((55, len(headers)))"
      ],
      "metadata": {
        "id": "krpcnOhWnXlY"
      },
      "execution_count": 15,
      "outputs": []
    },
    {
      "cell_type": "code",
      "source": [
        "count_num = np.zeros((55,))"
      ],
      "metadata": {
        "id": "sF7anDPHplqJ"
      },
      "execution_count": 16,
      "outputs": []
    },
    {
      "cell_type": "code",
      "source": [
        "avg = np.zeros((1, len(headers)))"
      ],
      "metadata": {
        "id": "cDaNtGLTplmc"
      },
      "execution_count": 17,
      "outputs": []
    },
    {
      "cell_type": "code",
      "source": [
        "for i in range(num4):\n",
        "  current_shap = explainer.shap_values(np.array(x_sample_tab[i:(i+1),:]))[0][0]\n",
        "  for j in range(55):\n",
        "    if x_sample_tab[i, j+17] == 1:\n",
        "      average_value[j, :] = average_value[j, :] + current_shap\n",
        "      count_num[j] = count_num[j] + 1\n",
        "\n",
        "for i in range(55):\n",
        "  average_value[i, :] = average_value[i, :]/count_num[i]"
      ],
      "metadata": {
        "colab": {
          "base_uri": "https://localhost:8080/"
        },
        "id": "58KWfHeTpljo",
        "outputId": "b5293f99-f75f-41e8-8436-e1f9ab5d03a7"
      },
      "execution_count": 18,
      "outputs": [
        {
          "output_type": "stream",
          "name": "stderr",
          "text": [
            "`tf.keras.backend.set_learning_phase` is deprecated and will be removed after 2020-10-11. To update it, simply pass a True/False value to the `training` argument of the `__call__` method of your layer or model.\n",
            "invalid value encountered in true_divide\n"
          ]
        }
      ]
    },
    {
      "cell_type": "code",
      "source": [
        "with open('SHAP/SHAP_Parametric/'+ var + '_SHAP_brands_features.csv', 'w', newline='') as f:\n",
        "    f_csv = csv.writer(f)\n",
        "    f_csv.writerow(headers)\n",
        "    f_csv.writerows(average_value)\n",
        "\n",
        "f.close()"
      ],
      "metadata": {
        "id": "APmWL1tnple2"
      },
      "execution_count": 20,
      "outputs": []
    },
    {
      "cell_type": "markdown",
      "source": [
        "## **Obtain the average SHAP values as the years progress(2007-2023)**"
      ],
      "metadata": {
        "id": "DGJ--bwbQi8C"
      }
    },
    {
      "cell_type": "code",
      "source": [
        "average_value = np.zeros((17, len(headers)))"
      ],
      "metadata": {
        "id": "dAVxC_N_BXJW"
      },
      "execution_count": null,
      "outputs": []
    },
    {
      "cell_type": "code",
      "source": [
        "count_num = np.zeros((17,))"
      ],
      "metadata": {
        "id": "EuRhBeURBmTk"
      },
      "execution_count": null,
      "outputs": []
    },
    {
      "cell_type": "code",
      "source": [
        "avg = np.zeros((1, len(headers)))"
      ],
      "metadata": {
        "id": "uyVk8Ocq4oZu"
      },
      "execution_count": null,
      "outputs": []
    },
    {
      "cell_type": "code",
      "source": [
        "for i in range(num4):\n",
        "  current_shap = explainer.shap_values(np.array(x_sample_tab[i:(i+1),:]))[0][0]\n",
        "  for j in range(17):\n",
        "    if x_sample_tab[i, j] == 1:\n",
        "      average_value[j, :] = average_value[j, :] + current_shap\n",
        "      count_num[j] = count_num[j] + 1\n",
        "\n",
        "for i in range(17):\n",
        "  average_value[i, :] = average_value[i, :]/count_num[i]\n"
      ],
      "metadata": {
        "colab": {
          "base_uri": "https://localhost:8080/"
        },
        "id": "BU-aYdsAAzj2",
        "outputId": "93aa88a7-6c57-4a24-a58e-dbfcc32ad4e0"
      },
      "execution_count": null,
      "outputs": [
        {
          "output_type": "stream",
          "name": "stderr",
          "text": [
            "invalid value encountered in true_divide\n"
          ]
        }
      ]
    },
    {
      "cell_type": "code",
      "source": [
        "with open('SHAP/SHAP_Parametric/'+ var + '_SHAP_years_features.csv', 'w', newline='') as f:\n",
        "    f_csv = csv.writer(f)\n",
        "    f_csv.writerow(headers)\n",
        "    f_csv.writerows(average_value)\n",
        "\n",
        "f.close()"
      ],
      "metadata": {
        "id": "je50nvcQCjU9"
      },
      "execution_count": null,
      "outputs": []
    },
    {
      "cell_type": "markdown",
      "source": [
        "## **Obtain the absolute SHAP value and the SHAP value**"
      ],
      "metadata": {
        "id": "BIawThm_VLdb"
      }
    },
    {
      "cell_type": "markdown",
      "source": [
        "**5**\n",
        "\n",
        "**Absolute SHAP values and SHAP values of the five feature categories of the parametric data**\n",
        "\n",
        "**General Information, Exterior Information, Interior Information, Mechanical Information, Safety Information**"
      ],
      "metadata": {
        "id": "HiAI1JSld_ol"
      }
    },
    {
      "cell_type": "code",
      "source": [
        "headers_new1 = [\"General Information\", \"Exterior Information\", \"Interior Information\", \"Mechanical Information\", \"Safety Information\"]"
      ],
      "metadata": {
        "id": "4dQrbjBFVK_G"
      },
      "execution_count": null,
      "outputs": []
    },
    {
      "cell_type": "markdown",
      "source": [
        "**Absolute SHAP values**"
      ],
      "metadata": {
        "id": "dcwHrb7Bgb1f"
      }
    },
    {
      "cell_type": "code",
      "source": [
        "general_average_value = np.zeros((num4, 5))"
      ],
      "metadata": {
        "id": "RcKHjZgwVK3k"
      },
      "execution_count": null,
      "outputs": []
    },
    {
      "cell_type": "code",
      "source": [
        "for i in range(num4):\n",
        "  shap_values = np.abs(explainer.shap_values(np.array(x_sample_tab[i:i+1]))[0][0])\n",
        "  count = np.zeros((len(headers_new1),))\n",
        "  for j in range(302):\n",
        "    if 0 <= j <= 76 or 299 <= j <= 301:\n",
        "      count[0] = count[0] + float(shap_values[j])\n",
        "    elif 77 <= j <= 110:\n",
        "      count[1] = count[1] + float(shap_values[j])\n",
        "    elif 111 <= j <= 216:\n",
        "      count[2] = count[2] + float(shap_values[j])\n",
        "    elif 217 <= j <= 269:\n",
        "      count[3] = count[3] + float(shap_values[j])\n",
        "    elif 270 <= j <= 298:\n",
        "      count[4] = count[4] + float(shap_values[j])\n",
        "  for k in range(len(headers_new1)):\n",
        "    general_average_value[i][k] = count[k]\n",
        "  # print(\"Good\")\n",
        "avg1 = np.mean(general_average_value, axis=0, keepdims=True)"
      ],
      "metadata": {
        "colab": {
          "base_uri": "https://localhost:8080/"
        },
        "id": "xTNH3nxTVKuq",
        "outputId": "15c7760e-354d-4ff5-baf3-a9001fd965aa"
      },
      "execution_count": null,
      "outputs": [
        {
          "output_type": "stream",
          "name": "stderr",
          "text": [
            "`tf.keras.backend.set_learning_phase` is deprecated and will be removed after 2020-10-11. To update it, simply pass a True/False value to the `training` argument of the `__call__` method of your layer or model.\n"
          ]
        }
      ]
    },
    {
      "cell_type": "code",
      "source": [
        "print(avg1)"
      ],
      "metadata": {
        "colab": {
          "base_uri": "https://localhost:8080/"
        },
        "id": "TxUKDxj9VKir",
        "outputId": "0da12993-8a9e-4e33-fdbd-335b69c3fa31"
      },
      "execution_count": null,
      "outputs": [
        {
          "output_type": "stream",
          "name": "stdout",
          "text": [
            "[[0.06578347 0.01706766 0.16072238 0.04583692 0.0343218 ]]\n"
          ]
        }
      ]
    },
    {
      "cell_type": "code",
      "source": [
        "with open('SHAP/SHAP_Parametric/'+ var + '_SHAP_abs_5 all.csv', 'w', newline='') as f:\n",
        "    f_csv = csv.writer(f)\n",
        "    f_csv.writerow(headers_new1)\n",
        "    f_csv.writerows(general_average_value)\n",
        "\n",
        "f.close()"
      ],
      "metadata": {
        "id": "9TeOKsjsXeY1"
      },
      "execution_count": null,
      "outputs": []
    },
    {
      "cell_type": "code",
      "source": [
        "with open('SHAP/SHAP_Parametric/'+ var + '_SHAP_abs_5 avg.csv', 'w', newline='') as f:\n",
        "    f_csv = csv.writer(f)\n",
        "    f_csv.writerow(headers_new1)\n",
        "    f_csv.writerows(avg1)\n",
        "\n",
        "f.close()"
      ],
      "metadata": {
        "id": "qm8I8CjUVv3U"
      },
      "execution_count": null,
      "outputs": []
    },
    {
      "cell_type": "markdown",
      "source": [
        "**SHAP values**"
      ],
      "metadata": {
        "id": "j1PEmDtAghaH"
      }
    },
    {
      "cell_type": "code",
      "source": [
        "general_average_value = np.zeros((num4, 5))"
      ],
      "metadata": {
        "id": "CzYuHUkkhrp3"
      },
      "execution_count": null,
      "outputs": []
    },
    {
      "cell_type": "code",
      "source": [
        "for i in range(num4):\n",
        "  shap_values = explainer.shap_values(np.array(x_sample_tab[i:i+1]))[0][0]\n",
        "  count = np.zeros((len(headers_new1),))\n",
        "  for j in range(302):\n",
        "    if 0 <= j <= 76 or 299 <= j <= 301:\n",
        "      count[0] = count[0] + float(shap_values[j])\n",
        "    elif 77 <= j <= 110:\n",
        "      count[1] = count[1] + float(shap_values[j])\n",
        "    elif 111 <= j <= 216:\n",
        "      count[2] = count[2] + float(shap_values[j])\n",
        "    elif 217 <= j <= 269:\n",
        "      count[3] = count[3] + float(shap_values[j])\n",
        "    elif 270 <= j <= 298:\n",
        "      count[4] = count[4] + float(shap_values[j])\n",
        "  for k in range(len(headers_new1)):\n",
        "    general_average_value[i][k] = count[k]\n",
        "  # print(\"Good\")\n",
        "avg1 = np.mean(general_average_value, axis=0, keepdims=True)"
      ],
      "metadata": {
        "id": "DBZuU2K7hrcV"
      },
      "execution_count": null,
      "outputs": []
    },
    {
      "cell_type": "code",
      "source": [
        "print(avg1)"
      ],
      "metadata": {
        "colab": {
          "base_uri": "https://localhost:8080/"
        },
        "id": "Z_wv9_UNjVBm",
        "outputId": "d14058cf-540f-4d18-d34f-ca9728ffd0d2"
      },
      "execution_count": null,
      "outputs": [
        {
          "output_type": "stream",
          "name": "stdout",
          "text": [
            "[[ 3.53249017e-04  1.97200447e-05  2.19449101e-03 -6.32397999e-04\n",
            "   2.39171131e-04]]\n"
          ]
        }
      ]
    },
    {
      "cell_type": "code",
      "source": [
        "with open('SHAP/SHAP_Parametric/'+ var + '_SHAP_5 avg.csv', 'w', newline='') as f:\n",
        "    f_csv = csv.writer(f)\n",
        "    f_csv.writerow(headers_new1)\n",
        "    f_csv.writerows(avg1)\n",
        "\n",
        "f.close()"
      ],
      "metadata": {
        "id": "8NFHx6RihrTk"
      },
      "execution_count": null,
      "outputs": []
    },
    {
      "cell_type": "markdown",
      "source": [
        "**21**\n",
        "\n",
        "**Absolute SHAP values and SHAP values of 21 feature subcategories on the model prediction**"
      ],
      "metadata": {
        "id": "CbO8HWgTeCwD"
      }
    },
    {
      "cell_type": "code",
      "source": [
        "headers_new = ['years', 'brand', 'Drivetrain',\n",
        "        'Exterior Body Style', 'Exterior Dimensions', 'Exterior Measurements',\n",
        "        'Interior Convenience & Comfort', 'Interior Dimensions', 'Interior Entertainment', 'Interior Heating Cooling', 'Interior Navigation & Communication', 'Interior Seats',\n",
        "        'Mechanical Transmission', 'Mechanical Fuel', 'Engine & Performance',\n",
        "        'Safety Airbags', 'Safety Brakes', 'Safety Features',\n",
        "        'MSRP', 'mpg_city', 'mpg_hwy']"
      ],
      "metadata": {
        "id": "7axx1-0qVv0-"
      },
      "execution_count": null,
      "outputs": []
    },
    {
      "cell_type": "markdown",
      "source": [
        "**Absolute SHAP values**"
      ],
      "metadata": {
        "id": "U6RoIREXzKUq"
      }
    },
    {
      "cell_type": "code",
      "source": [
        "average_value = np.zeros((num4, len(headers_new)))"
      ],
      "metadata": {
        "id": "Wbve9zGPVvyR"
      },
      "execution_count": null,
      "outputs": []
    },
    {
      "cell_type": "code",
      "source": [
        "for i in range(num4):\n",
        "  shap_values = np.abs(explainer.shap_values(np.array(x_sample_tab[i:i+1]))[0][0])\n",
        "  count2 = 0.0\n",
        "  count3 = 0.0\n",
        "  count4 = 0.0\n",
        "  count5 = 0.0\n",
        "  count6 = 0.0\n",
        "  count7 = 0.0\n",
        "  count8 = 0.0\n",
        "  count9 = 0.0\n",
        "  count10 = 0.0\n",
        "  count11 = 0.0\n",
        "  count12 = 0.0\n",
        "  count13 = 0.0\n",
        "  count14 = 0.0\n",
        "  count15 = 0.0\n",
        "  count16 = 0.0\n",
        "  count17 = 0.0\n",
        "  count18 = 0.0\n",
        "  count19 = 0.0\n",
        "  count20 = 0.0\n",
        "  count21 = 0.0\n",
        "  count22 = 0.0\n",
        "  for j in range(302):\n",
        "    if 0 <= j <= 16:\n",
        "      count2 = count2 + float(shap_values[j])\n",
        "    elif 17 <= j <= 71:\n",
        "      count3 = count3 + float(shap_values[j])\n",
        "    elif 72 <= j <= 76:\n",
        "      count4 = count4 + float(shap_values[j])\n",
        "    elif 77 <= j <= 105:\n",
        "      count5 = count5 + float(shap_values[j])\n",
        "    elif 106 <= j <= 109:\n",
        "      count6 = count6 + float(shap_values[j])\n",
        "    elif j == 110:\n",
        "      count7 = count7 + float(shap_values[j])\n",
        "    elif 111 <= j <= 162:\n",
        "      count8 = count8 + float(shap_values[j])\n",
        "    elif 163 <= j <= 169:\n",
        "      count9 = count9 + float(shap_values[j])\n",
        "    elif 170 <= j <= 186:\n",
        "      count10 = count10 + float(shap_values[j])\n",
        "    elif 187 <= j <= 190:\n",
        "      count11 = count11 + float(shap_values[j])\n",
        "    elif 191 <= j <= 194:\n",
        "      count12 = count12 + float(shap_values[j])\n",
        "    elif 195 <= j <= 216:\n",
        "      count13 = count13 + float(shap_values[j])\n",
        "    elif 217 <= j <= 230:\n",
        "      count14 = count14 + float(shap_values[j])\n",
        "    elif 231 <= j <= 239:\n",
        "      count15 = count15 + float(shap_values[j])\n",
        "    elif 240 <= j <= 269:\n",
        "      count16 = count16 + float(shap_values[j])\n",
        "    elif 270 <= j <= 276:\n",
        "      count17 = count17 + float(shap_values[j])\n",
        "    elif 277 <= j <= 280:\n",
        "      count18 = count18 + float(shap_values[j])\n",
        "    elif 281 <= j <= 298:\n",
        "      count19 = count19 + float(shap_values[j])\n",
        "    elif j == 299:\n",
        "      count20 = count20 + float(shap_values[j])\n",
        "    elif j == 300:\n",
        "      count21 = count21 + float(shap_values[j])\n",
        "    elif j == 301:\n",
        "      count22 = count22 + float(shap_values[j])\n",
        "  average_value[i][0] = count2\n",
        "  average_value[i][1] = count3\n",
        "  average_value[i][2] = count4\n",
        "  average_value[i][3] = count5\n",
        "  average_value[i][4] = count6\n",
        "  average_value[i][5] = count7\n",
        "  average_value[i][6] = count8\n",
        "  average_value[i][7] = count9\n",
        "  average_value[i][8] = count10\n",
        "  average_value[i][9] = count11\n",
        "  average_value[i][10] = count12\n",
        "  average_value[i][11] = count13\n",
        "  average_value[i][12] = count14\n",
        "  average_value[i][13] = count15\n",
        "  average_value[i][14] = count16\n",
        "  average_value[i][15] = count17\n",
        "  average_value[i][16] = count18\n",
        "  average_value[i][17] = count19\n",
        "  average_value[i][18] = count20\n",
        "  average_value[i][19] = count21\n",
        "  average_value[i][20] = count22"
      ],
      "metadata": {
        "id": "K9OF1Nu_VvwE"
      },
      "execution_count": null,
      "outputs": []
    },
    {
      "cell_type": "code",
      "source": [
        "avg = np.mean(average_value, axis=0, keepdims=True)"
      ],
      "metadata": {
        "id": "sTOo4ScDVvtN"
      },
      "execution_count": null,
      "outputs": []
    },
    {
      "cell_type": "code",
      "source": [
        "print(avg)"
      ],
      "metadata": {
        "id": "Qp5ba3IbVvrH"
      },
      "execution_count": null,
      "outputs": []
    },
    {
      "cell_type": "code",
      "source": [
        "with open('SHAP/SHAP_Parametric/'+ var + '_SHAP_abs_21 avg.csv', 'w', newline='') as f:\n",
        "    f_csv = csv.writer(f)\n",
        "    f_csv.writerow(headers_new)\n",
        "    f_csv.writerows(avg)\n",
        "\n",
        "f.close()"
      ],
      "metadata": {
        "id": "rrui9815Vvn-"
      },
      "execution_count": null,
      "outputs": []
    },
    {
      "cell_type": "markdown",
      "source": [
        "**SHAP values**"
      ],
      "metadata": {
        "id": "j53foTJrzESJ"
      }
    },
    {
      "cell_type": "code",
      "source": [
        "average_value = np.zeros((num4, len(headers_new)))"
      ],
      "metadata": {
        "id": "nlEUsYmph1Hk"
      },
      "execution_count": null,
      "outputs": []
    },
    {
      "cell_type": "code",
      "source": [
        "for i in range(num4):\n",
        "  shap_values = explainer.shap_values(np.array(x_sample_tab[i:i+1]))[0][0]\n",
        "  count2 = 0.0\n",
        "  count3 = 0.0\n",
        "  count4 = 0.0\n",
        "  count5 = 0.0\n",
        "  count6 = 0\n",
        "  count7 = 0\n",
        "  count8 = 0\n",
        "  count9 = 0\n",
        "  count10 = 0\n",
        "  count11 = 0\n",
        "  count12 = 0\n",
        "  count13 = 0\n",
        "  count14 = 0\n",
        "  count15 = 0\n",
        "  count16 = 0\n",
        "  count17 = 0\n",
        "  count18 = 0\n",
        "  count19 = 0\n",
        "  count20 = 0\n",
        "  count21 = 0\n",
        "  count22 = 0\n",
        "  for j in range(302):\n",
        "    if 0 <= j <= 16:\n",
        "      count2 = count2 + float(shap_values[j])\n",
        "    elif 17 <= j <= 71:\n",
        "      count3 = count3 + float(shap_values[j])\n",
        "    elif 72 <= j <= 76:\n",
        "      count4 = count4 + float(shap_values[j])\n",
        "    elif 77 <= j <= 105:\n",
        "      count5 = count5 + float(shap_values[j])\n",
        "    elif 106 <= j <= 109:\n",
        "      count6 = count6 + float(shap_values[j])\n",
        "    elif j == 110:\n",
        "      count7 = count7 + float(shap_values[j])\n",
        "    elif 111 <= j <= 162:\n",
        "      count8 = count8 + float(shap_values[j])\n",
        "    elif 163 <= j <= 169:\n",
        "      count9 = count9 + float(shap_values[j])\n",
        "    elif 170 <= j <= 186:\n",
        "      count10 = count10 + float(shap_values[j])\n",
        "    elif 187 <= j <= 190:\n",
        "      count11 = count11 + float(shap_values[j])\n",
        "    elif 191 <= j <= 194:\n",
        "      count12 = count12 + float(shap_values[j])\n",
        "    elif 195 <= j <= 216:\n",
        "      count13 = count13 + float(shap_values[j])\n",
        "    elif 217 <= j <= 230:\n",
        "      count14 = count14 + float(shap_values[j])\n",
        "    elif 231 <= j <= 239:\n",
        "      count15 = count15 + float(shap_values[j])\n",
        "    elif 240 <= j <= 269:\n",
        "      count16 = count16 + float(shap_values[j])\n",
        "    elif 270 <= j <= 276:\n",
        "      count17 = count17 + float(shap_values[j])\n",
        "    elif 277 <= j <= 280:\n",
        "      count18 = count18 + float(shap_values[j])\n",
        "    elif 281 <= j <= 298:\n",
        "      count19 = count19 + float(shap_values[j])\n",
        "    elif j == 299:\n",
        "      count20 = count20 + float(shap_values[j])\n",
        "    elif j == 300:\n",
        "      count21 = count21 + float(shap_values[j])\n",
        "    elif j == 301:\n",
        "      count22 = count22 + float(shap_values[j])\n",
        "  average_value[i][0] = count2\n",
        "  average_value[i][1] = count3\n",
        "  average_value[i][2] = count4\n",
        "  average_value[i][3] = count5\n",
        "  average_value[i][4] = count6\n",
        "  average_value[i][5] = count7\n",
        "  average_value[i][6] = count8\n",
        "  average_value[i][7] = count9\n",
        "  average_value[i][8] = count10\n",
        "  average_value[i][9] = count11\n",
        "  average_value[i][10] = count12\n",
        "  average_value[i][11] = count13\n",
        "  average_value[i][12] = count14\n",
        "  average_value[i][13] = count15\n",
        "  average_value[i][14] = count16\n",
        "  average_value[i][15] = count17\n",
        "  average_value[i][16] = count18\n",
        "  average_value[i][17] = count19\n",
        "  average_value[i][18] = count20\n",
        "  average_value[i][19] = count21\n",
        "  average_value[i][20] = count22"
      ],
      "metadata": {
        "id": "CQDXWgaah0-3"
      },
      "execution_count": null,
      "outputs": []
    },
    {
      "cell_type": "code",
      "source": [
        "avg = np.mean(average_value, axis=0, keepdims=True)"
      ],
      "metadata": {
        "id": "Y0CskgfLh05E"
      },
      "execution_count": null,
      "outputs": []
    },
    {
      "cell_type": "code",
      "source": [
        "print(avg)"
      ],
      "metadata": {
        "id": "5YUiuP3AjmJW"
      },
      "execution_count": null,
      "outputs": []
    },
    {
      "cell_type": "code",
      "source": [
        "with open('SHAP/SHAP_Parametric/'+ var + '_SHAP_21 avg.csv', 'w', newline='') as f:\n",
        "    f_csv = csv.writer(f)\n",
        "    f_csv.writerow(headers_new)\n",
        "    f_csv.writerows(avg)\n",
        "\n",
        "f.close()"
      ],
      "metadata": {
        "id": "Mm7eXrgth0zl"
      },
      "execution_count": null,
      "outputs": []
    },
    {
      "cell_type": "markdown",
      "source": [
        "**302**\n",
        "\n",
        "**Absolute SHAP values and SHAP values of 302 every single feature on the model prediction**"
      ],
      "metadata": {
        "id": "EKq4emtzfldO"
      }
    },
    {
      "cell_type": "markdown",
      "source": [
        "**Absolute SHAP values**"
      ],
      "metadata": {
        "id": "K2PXJLq8zQxL"
      }
    },
    {
      "cell_type": "code",
      "source": [
        "average_value = np.zeros((num4, len(headers)))"
      ],
      "metadata": {
        "id": "Os4ax2ioVvis"
      },
      "execution_count": null,
      "outputs": []
    },
    {
      "cell_type": "code",
      "source": [
        "for i in range(num4):\n",
        "  # get shap value\n",
        "  average_value[i,:] = np.abs(explainer.shap_values(np.array(x_sample_tab[i:(i+1),:]))[0][0])"
      ],
      "metadata": {
        "id": "LmMfqnvIVvFr"
      },
      "execution_count": null,
      "outputs": []
    },
    {
      "cell_type": "code",
      "source": [
        "avg = np.mean(average_value, axis=0, keepdims=True)"
      ],
      "metadata": {
        "id": "xXlR1xjKfue-"
      },
      "execution_count": null,
      "outputs": []
    },
    {
      "cell_type": "code",
      "source": [
        "print(avg)"
      ],
      "metadata": {
        "id": "fanbj--Ifucy"
      },
      "execution_count": null,
      "outputs": []
    },
    {
      "cell_type": "code",
      "source": [
        "with open('SHAP/SHAP_Parametric/'+ var + '_SHAP_abs_all_302.csv', 'w', newline='') as f:\n",
        "    f_csv = csv.writer(f)\n",
        "    f_csv.writerow(headers)\n",
        "    f_csv.writerows(average_value)\n",
        "\n",
        "f.close()"
      ],
      "metadata": {
        "id": "pG0bo7pEfuaK"
      },
      "execution_count": null,
      "outputs": []
    },
    {
      "cell_type": "code",
      "source": [
        "with open('SHAP/SHAP_Parametric/'+ var + '_SHAP_abs_avg_302.csv', 'w', newline='') as f:\n",
        "    f_csv = csv.writer(f)\n",
        "    f_csv.writerow(headers)\n",
        "    f_csv.writerows(avg)\n",
        "\n",
        "f.close()"
      ],
      "metadata": {
        "id": "3FgDulbbfuXr"
      },
      "execution_count": null,
      "outputs": []
    },
    {
      "cell_type": "markdown",
      "source": [
        "**SHAP values**"
      ],
      "metadata": {
        "id": "WvwWX-UNzScK"
      }
    },
    {
      "cell_type": "code",
      "source": [
        "average_value = np.zeros((num4, len(headers)))"
      ],
      "metadata": {
        "id": "rEsZ3uOQfuVM"
      },
      "execution_count": null,
      "outputs": []
    },
    {
      "cell_type": "code",
      "source": [
        "for i in range(num4):\n",
        "  # get shap value\n",
        "  average_value[i,:] = explainer.shap_values(np.array(x_sample_tab[i:(i+1),:]))[0][0]"
      ],
      "metadata": {
        "id": "Gj-EmgTRfuQU"
      },
      "execution_count": null,
      "outputs": []
    },
    {
      "cell_type": "code",
      "source": [
        "avg = np.mean(average_value, axis=0, keepdims=True)"
      ],
      "metadata": {
        "id": "SI7Tz_JBfuNm"
      },
      "execution_count": null,
      "outputs": []
    },
    {
      "cell_type": "code",
      "source": [
        "print(avg)"
      ],
      "metadata": {
        "id": "oklMbJtQkDSM"
      },
      "execution_count": null,
      "outputs": []
    },
    {
      "cell_type": "code",
      "source": [
        "with open('SHAP/SHAP_Parametric/'+ var + '_SHAP_all_302.csv', 'w', newline='') as f:\n",
        "    f_csv = csv.writer(f)\n",
        "    f_csv.writerow(headers)\n",
        "    f_csv.writerows(average_value)\n",
        "\n",
        "f.close()"
      ],
      "metadata": {
        "id": "v_yxtMXifuK1"
      },
      "execution_count": null,
      "outputs": []
    },
    {
      "cell_type": "code",
      "source": [
        "with open('SHAP/SHAP_Parametric/'+ var + '_SHAP_avg_302.csv', 'w', newline='') as f:\n",
        "    f_csv = csv.writer(f)\n",
        "    f_csv.writerow(headers)\n",
        "    f_csv.writerows(avg)\n",
        "\n",
        "f.close()"
      ],
      "metadata": {
        "id": "wpOdCgEIfuId"
      },
      "execution_count": null,
      "outputs": []
    }
  ]
}